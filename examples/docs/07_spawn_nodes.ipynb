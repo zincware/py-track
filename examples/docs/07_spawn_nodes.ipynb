{
 "cells": [
  {
   "cell_type": "code",
   "execution_count": 1,
   "id": "ac2ff6f8-c61e-4dc7-9e9f-d0ba103540ee",
   "metadata": {},
   "outputs": [],
   "source": [
    "import typing\n",
    "\n",
    "from zntrack import SpawnNode, Node, config, zn\n",
    "import random"
   ]
  },
  {
   "cell_type": "code",
   "execution_count": 2,
   "id": "c7c9d484-81b6-4269-b506-c25fd5efe471",
   "metadata": {},
   "outputs": [],
   "source": [
    "config.nb_name = \"07_spawn_nodes.ipynb\""
   ]
  },
  {
   "cell_type": "code",
   "execution_count": 3,
   "id": "d883b41b-61f2-448f-b935-52dec6baaa87",
   "metadata": {
    "nbsphinx": "hidden",
    "tags": []
   },
   "outputs": [],
   "source": [
    "from zntrack.utils import cwd_temp_dir\n",
    "\n",
    "temp_dir = cwd_temp_dir()"
   ]
  },
  {
   "cell_type": "code",
   "execution_count": 4,
   "id": "02b1bed1-bf12-47bb-8d60-2b40575cdb63",
   "metadata": {
    "tags": []
   },
   "outputs": [
    {
     "name": "stdout",
     "output_type": "stream",
     "text": [
      "Initialized empty Git repository in /tmp/tmp7eg3g3gh/.git/\r\n",
      "Initialized DVC repository.\r\n",
      "\r\n",
      "You can now commit the changes to git.\r\n",
      "\r\n",
      "\u001B[31m+---------------------------------------------------------------------+\r\n",
      "\u001B[0m\u001B[31m|\u001B[0m                                                                     \u001B[31m|\u001B[0m\r\n",
      "\u001B[31m|\u001B[0m        DVC has enabled anonymous aggregate usage analytics.         \u001B[31m|\u001B[0m\r\n",
      "\u001B[31m|\u001B[0m     Read the analytics documentation (and how to opt-out) here:     \u001B[31m|\u001B[0m\r\n",
      "\u001B[31m|\u001B[0m             <\u001B[36mhttps://dvc.org/doc/user-guide/analytics\u001B[39m>              \u001B[31m|\u001B[0m\r\n",
      "\u001B[31m|\u001B[0m                                                                     \u001B[31m|\u001B[0m\r\n",
      "\u001B[31m+---------------------------------------------------------------------+\r\n",
      "\u001B[0m\r\n",
      "\u001B[33mWhat's next?\u001B[39m\r\n",
      "\u001B[33m------------\u001B[39m\r\n",
      "- Check out the documentation: <\u001B[36mhttps://dvc.org/doc\u001B[39m>\r\n",
      "- Get help and share ideas: <\u001B[36mhttps://dvc.org/chat\u001B[39m>\r\n",
      "- Star us on GitHub: <\u001B[36mhttps://github.com/iterative/dvc\u001B[39m>\r\n",
      "\u001B[0m"
     ]
    }
   ],
   "source": [
    "!git init\n",
    "!dvc init"
   ]
  },
  {
   "cell_type": "markdown",
   "id": "d20eda47-4757-4de5-b920-1db19ee0ef37",
   "metadata": {},
   "source": [
    "# Spawn Nodes\n",
    "\n",
    "There can be many scenarios where a single Node can be run multiple times and the results will be pooled of some sort.\n",
    "This can be achieved by using a `zntrack.SpawnNode`. The key features of a SpawnNode are:\n",
    "- one or many `zn.Iterable()` parameters\n",
    "- in case of multiple `zn.Iterable()` a `spawn_filter` to only run certain combinations of parameters\n",
    "- a pooling Node to gather the results"
   ]
  },
  {
   "cell_type": "code",
   "execution_count": 5,
   "id": "6a704798-b67a-4863-b96c-60cdeb65d559",
   "metadata": {},
   "outputs": [],
   "source": [
    "class SimpleSpawn(SpawnNode):\n",
    "    start = zn.iterable([-100, -10, -1, 0])\n",
    "    stop = zn.iterable([1, 10, 100])\n",
    "    step = zn.iterable([1, 10])\n",
    "\n",
    "    number = zn.outs()\n",
    "\n",
    "    def run(self):\n",
    "        self.number = random.randrange(self.start, self.stop, self.step)"
   ]
  },
  {
   "cell_type": "code",
   "execution_count": 6,
   "id": "2a04b805-bbda-49ca-97ef-efb761f67165",
   "metadata": {},
   "outputs": [
    {
     "name": "stdout",
     "output_type": "stream",
     "text": [
      "2022-01-21 10:35:54,122 (WARNING): Jupyter support is an experimental feature! Please save your notebook before running this command!\n",
      "Submit issues to https://github.com/zincware/ZnTrack.\n",
      "2022-01-21 10:35:54,123 (WARNING): Converting 07_spawn_nodes.ipynb to file SimpleSpawn.py\n"
     ]
    },
    {
     "name": "stderr",
     "output_type": "stream",
     "text": [
      "[NbConvertApp] Converting notebook 07_spawn_nodes.ipynb to script\n"
     ]
    },
    {
     "name": "stdout",
     "output_type": "stream",
     "text": [
      "2022-01-21 10:35:57,298 (WARNING): --- Writing new DVC file! ---\n",
      "2022-01-21 10:35:57,299 (WARNING): You will not be able to see the stdout/stderr of the process in real time!\n"
     ]
    },
    {
     "name": "stderr",
     "output_type": "stream",
     "text": [
      "[NbConvertApp] Writing 2319 bytes to 07_spawn_nodes.py\n"
     ]
    },
    {
     "name": "stdout",
     "output_type": "stream",
     "text": [
      "2022-01-21 10:36:00,960 (INFO): Running stage 'SimpleSpawn_29250257008312838':\n",
      "> python3 -c \"from src.SimpleSpawn import SimpleSpawn; SimpleSpawn.load(name='SimpleSpawn_29250257008312838').run_and_save()\" \n",
      "Creating 'dvc.yaml'\n",
      "Adding stage 'SimpleSpawn_29250257008312838' in 'dvc.yaml'\n",
      "Generating lock file 'dvc.lock'\n",
      "Updating lock file 'dvc.lock'\n",
      "\n",
      "To track the changes with git, run:\n",
      "\n",
      "    git add nodes/SimpleSpawn_29250257008312838/.gitignore dvc.yaml dvc.lock\n",
      "\n",
      "To enable auto staging, run:\n",
      "\n",
      "\tdvc config core.autostage true\n",
      "\n",
      "2022-01-21 10:36:00,974 (WARNING): Jupyter support is an experimental feature! Please save your notebook before running this command!\n",
      "Submit issues to https://github.com/zincware/ZnTrack.\n",
      "2022-01-21 10:36:00,974 (WARNING): Converting 07_spawn_nodes.ipynb to file SimpleSpawn.py\n"
     ]
    },
    {
     "name": "stderr",
     "output_type": "stream",
     "text": [
      "[NbConvertApp] Converting notebook 07_spawn_nodes.ipynb to script\n"
     ]
    },
    {
     "name": "stdout",
     "output_type": "stream",
     "text": [
      "2022-01-21 10:36:03,878 (WARNING): --- Writing new DVC file! ---\n",
      "2022-01-21 10:36:03,878 (WARNING): You will not be able to see the stdout/stderr of the process in real time!\n"
     ]
    },
    {
     "name": "stderr",
     "output_type": "stream",
     "text": [
      "[NbConvertApp] Writing 2319 bytes to 07_spawn_nodes.py\n"
     ]
    },
    {
     "name": "stdout",
     "output_type": "stream",
     "text": [
      "2022-01-21 10:36:07,480 (INFO): Running stage 'SimpleSpawn_916431072461512022':\n",
      "> python3 -c \"from src.SimpleSpawn import SimpleSpawn; SimpleSpawn.load(name='SimpleSpawn_916431072461512022').run_and_save()\" \n",
      "Adding stage 'SimpleSpawn_916431072461512022' in 'dvc.yaml'\n",
      "Updating lock file 'dvc.lock'\n",
      "\n",
      "To track the changes with git, run:\n",
      "\n",
      "    git add dvc.yaml nodes/SimpleSpawn_916431072461512022/.gitignore dvc.lock\n",
      "\n",
      "To enable auto staging, run:\n",
      "\n",
      "\tdvc config core.autostage true\n",
      "\n",
      "2022-01-21 10:36:07,496 (WARNING): Jupyter support is an experimental feature! Please save your notebook before running this command!\n",
      "Submit issues to https://github.com/zincware/ZnTrack.\n",
      "2022-01-21 10:36:07,497 (WARNING): Converting 07_spawn_nodes.ipynb to file SimpleSpawn.py\n"
     ]
    },
    {
     "name": "stderr",
     "output_type": "stream",
     "text": [
      "[NbConvertApp] Converting notebook 07_spawn_nodes.ipynb to script\n"
     ]
    },
    {
     "name": "stdout",
     "output_type": "stream",
     "text": [
      "2022-01-21 10:36:10,501 (WARNING): --- Writing new DVC file! ---\n",
      "2022-01-21 10:36:10,502 (WARNING): You will not be able to see the stdout/stderr of the process in real time!\n"
     ]
    },
    {
     "name": "stderr",
     "output_type": "stream",
     "text": [
      "[NbConvertApp] Writing 2319 bytes to 07_spawn_nodes.py\n"
     ]
    },
    {
     "name": "stdout",
     "output_type": "stream",
     "text": [
      "2022-01-21 10:36:13,999 (INFO): Running stage 'SimpleSpawn_4758323624432781219':\n",
      "> python3 -c \"from src.SimpleSpawn import SimpleSpawn; SimpleSpawn.load(name='SimpleSpawn_4758323624432781219').run_and_save()\" \n",
      "Adding stage 'SimpleSpawn_4758323624432781219' in 'dvc.yaml'\n",
      "Updating lock file 'dvc.lock'\n",
      "\n",
      "To track the changes with git, run:\n",
      "\n",
      "    git add dvc.lock nodes/SimpleSpawn_4758323624432781219/.gitignore dvc.yaml\n",
      "\n",
      "To enable auto staging, run:\n",
      "\n",
      "\tdvc config core.autostage true\n",
      "\n",
      "2022-01-21 10:36:14,016 (WARNING): Jupyter support is an experimental feature! Please save your notebook before running this command!\n",
      "Submit issues to https://github.com/zincware/ZnTrack.\n",
      "2022-01-21 10:36:14,016 (WARNING): Converting 07_spawn_nodes.ipynb to file SimpleSpawn.py\n"
     ]
    },
    {
     "name": "stderr",
     "output_type": "stream",
     "text": [
      "[NbConvertApp] Converting notebook 07_spawn_nodes.ipynb to script\n"
     ]
    },
    {
     "name": "stdout",
     "output_type": "stream",
     "text": [
      "2022-01-21 10:36:17,170 (WARNING): --- Writing new DVC file! ---\n",
      "2022-01-21 10:36:17,170 (WARNING): You will not be able to see the stdout/stderr of the process in real time!\n"
     ]
    },
    {
     "name": "stderr",
     "output_type": "stream",
     "text": [
      "[NbConvertApp] Writing 2319 bytes to 07_spawn_nodes.py\n"
     ]
    },
    {
     "name": "stdout",
     "output_type": "stream",
     "text": [
      "2022-01-21 10:36:20,977 (INFO): Running stage 'SimpleSpawn_8702743746611559658':\n",
      "> python3 -c \"from src.SimpleSpawn import SimpleSpawn; SimpleSpawn.load(name='SimpleSpawn_8702743746611559658').run_and_save()\" \n",
      "Adding stage 'SimpleSpawn_8702743746611559658' in 'dvc.yaml'\n",
      "Updating lock file 'dvc.lock'\n",
      "\n",
      "To track the changes with git, run:\n",
      "\n",
      "    git add nodes/SimpleSpawn_8702743746611559658/.gitignore dvc.yaml dvc.lock\n",
      "\n",
      "To enable auto staging, run:\n",
      "\n",
      "\tdvc config core.autostage true\n",
      "\n",
      "2022-01-21 10:36:20,997 (WARNING): Jupyter support is an experimental feature! Please save your notebook before running this command!\n",
      "Submit issues to https://github.com/zincware/ZnTrack.\n",
      "2022-01-21 10:36:20,998 (WARNING): Converting 07_spawn_nodes.ipynb to file SimpleSpawn.py\n"
     ]
    },
    {
     "name": "stderr",
     "output_type": "stream",
     "text": [
      "[NbConvertApp] Converting notebook 07_spawn_nodes.ipynb to script\n"
     ]
    },
    {
     "name": "stdout",
     "output_type": "stream",
     "text": [
      "2022-01-21 10:36:24,135 (WARNING): --- Writing new DVC file! ---\n",
      "2022-01-21 10:36:24,136 (WARNING): You will not be able to see the stdout/stderr of the process in real time!\n"
     ]
    },
    {
     "name": "stderr",
     "output_type": "stream",
     "text": [
      "[NbConvertApp] Writing 2319 bytes to 07_spawn_nodes.py\n"
     ]
    },
    {
     "name": "stdout",
     "output_type": "stream",
     "text": [
      "2022-01-21 10:36:28,207 (INFO): Running stage 'SimpleSpawn_7995629640613930476':\n",
      "> python3 -c \"from src.SimpleSpawn import SimpleSpawn; SimpleSpawn.load(name='SimpleSpawn_7995629640613930476').run_and_save()\" \n",
      "Adding stage 'SimpleSpawn_7995629640613930476' in 'dvc.yaml'\n",
      "Updating lock file 'dvc.lock'\n",
      "\n",
      "To track the changes with git, run:\n",
      "\n",
      "    git add dvc.yaml dvc.lock nodes/SimpleSpawn_7995629640613930476/.gitignore\n",
      "\n",
      "To enable auto staging, run:\n",
      "\n",
      "\tdvc config core.autostage true\n",
      "\n",
      "2022-01-21 10:36:28,228 (WARNING): Jupyter support is an experimental feature! Please save your notebook before running this command!\n",
      "Submit issues to https://github.com/zincware/ZnTrack.\n",
      "2022-01-21 10:36:28,228 (WARNING): Converting 07_spawn_nodes.ipynb to file SimpleSpawn.py\n"
     ]
    },
    {
     "name": "stderr",
     "output_type": "stream",
     "text": [
      "[NbConvertApp] Converting notebook 07_spawn_nodes.ipynb to script\n"
     ]
    },
    {
     "name": "stdout",
     "output_type": "stream",
     "text": [
      "2022-01-21 10:36:31,315 (WARNING): --- Writing new DVC file! ---\n",
      "2022-01-21 10:36:31,316 (WARNING): You will not be able to see the stdout/stderr of the process in real time!\n"
     ]
    },
    {
     "name": "stderr",
     "output_type": "stream",
     "text": [
      "[NbConvertApp] Writing 2319 bytes to 07_spawn_nodes.py\n"
     ]
    },
    {
     "name": "stdout",
     "output_type": "stream",
     "text": [
      "2022-01-21 10:36:35,313 (INFO): Running stage 'SimpleSpawn_4020163545100225476':\n",
      "> python3 -c \"from src.SimpleSpawn import SimpleSpawn; SimpleSpawn.load(name='SimpleSpawn_4020163545100225476').run_and_save()\" \n",
      "Adding stage 'SimpleSpawn_4020163545100225476' in 'dvc.yaml'\n",
      "Updating lock file 'dvc.lock'\n",
      "\n",
      "To track the changes with git, run:\n",
      "\n",
      "    git add dvc.lock dvc.yaml nodes/SimpleSpawn_4020163545100225476/.gitignore\n",
      "\n",
      "To enable auto staging, run:\n",
      "\n",
      "\tdvc config core.autostage true\n",
      "\n",
      "2022-01-21 10:36:35,338 (WARNING): Jupyter support is an experimental feature! Please save your notebook before running this command!\n",
      "Submit issues to https://github.com/zincware/ZnTrack.\n",
      "2022-01-21 10:36:35,338 (WARNING): Converting 07_spawn_nodes.ipynb to file SimpleSpawn.py\n"
     ]
    },
    {
     "name": "stderr",
     "output_type": "stream",
     "text": [
      "[NbConvertApp] Converting notebook 07_spawn_nodes.ipynb to script\n"
     ]
    },
    {
     "name": "stdout",
     "output_type": "stream",
     "text": [
      "2022-01-21 10:36:38,567 (WARNING): --- Writing new DVC file! ---\n",
      "2022-01-21 10:36:38,567 (WARNING): You will not be able to see the stdout/stderr of the process in real time!\n"
     ]
    },
    {
     "name": "stderr",
     "output_type": "stream",
     "text": [
      "[NbConvertApp] Writing 2319 bytes to 07_spawn_nodes.py\n"
     ]
    },
    {
     "name": "stdout",
     "output_type": "stream",
     "text": [
      "2022-01-21 10:36:42,683 (INFO): Running stage 'SimpleSpawn_58183689576663454':\n",
      "> python3 -c \"from src.SimpleSpawn import SimpleSpawn; SimpleSpawn.load(name='SimpleSpawn_58183689576663454').run_and_save()\" \n",
      "Adding stage 'SimpleSpawn_58183689576663454' in 'dvc.yaml'\n",
      "Updating lock file 'dvc.lock'\n",
      "\n",
      "To track the changes with git, run:\n",
      "\n",
      "    git add dvc.lock nodes/SimpleSpawn_58183689576663454/.gitignore dvc.yaml\n",
      "\n",
      "To enable auto staging, run:\n",
      "\n",
      "\tdvc config core.autostage true\n",
      "\n",
      "2022-01-21 10:36:42,709 (WARNING): Jupyter support is an experimental feature! Please save your notebook before running this command!\n",
      "Submit issues to https://github.com/zincware/ZnTrack.\n",
      "2022-01-21 10:36:42,709 (WARNING): Converting 07_spawn_nodes.ipynb to file SimpleSpawn.py\n"
     ]
    },
    {
     "name": "stderr",
     "output_type": "stream",
     "text": [
      "[NbConvertApp] Converting notebook 07_spawn_nodes.ipynb to script\n"
     ]
    },
    {
     "name": "stdout",
     "output_type": "stream",
     "text": [
      "2022-01-21 10:36:45,995 (WARNING): --- Writing new DVC file! ---\n",
      "2022-01-21 10:36:45,996 (WARNING): You will not be able to see the stdout/stderr of the process in real time!\n"
     ]
    },
    {
     "name": "stderr",
     "output_type": "stream",
     "text": [
      "[NbConvertApp] Writing 2319 bytes to 07_spawn_nodes.py\n"
     ]
    },
    {
     "name": "stdout",
     "output_type": "stream",
     "text": [
      "2022-01-21 10:36:50,120 (INFO): Running stage 'SimpleSpawn_200020345442762651':\n",
      "> python3 -c \"from src.SimpleSpawn import SimpleSpawn; SimpleSpawn.load(name='SimpleSpawn_200020345442762651').run_and_save()\" \n",
      "Adding stage 'SimpleSpawn_200020345442762651' in 'dvc.yaml'\n",
      "Updating lock file 'dvc.lock'\n",
      "\n",
      "To track the changes with git, run:\n",
      "\n",
      "    git add dvc.yaml dvc.lock nodes/SimpleSpawn_200020345442762651/.gitignore\n",
      "\n",
      "To enable auto staging, run:\n",
      "\n",
      "\tdvc config core.autostage true\n",
      "\n",
      "2022-01-21 10:36:50,146 (WARNING): Jupyter support is an experimental feature! Please save your notebook before running this command!\n",
      "Submit issues to https://github.com/zincware/ZnTrack.\n",
      "2022-01-21 10:36:50,146 (WARNING): Converting 07_spawn_nodes.ipynb to file SimpleSpawn.py\n"
     ]
    },
    {
     "name": "stderr",
     "output_type": "stream",
     "text": [
      "[NbConvertApp] Converting notebook 07_spawn_nodes.ipynb to script\n"
     ]
    },
    {
     "name": "stdout",
     "output_type": "stream",
     "text": [
      "2022-01-21 10:36:53,724 (WARNING): --- Writing new DVC file! ---\n",
      "2022-01-21 10:36:53,724 (WARNING): You will not be able to see the stdout/stderr of the process in real time!\n"
     ]
    },
    {
     "name": "stderr",
     "output_type": "stream",
     "text": [
      "[NbConvertApp] Writing 2319 bytes to 07_spawn_nodes.py\n"
     ]
    },
    {
     "name": "stdout",
     "output_type": "stream",
     "text": [
      "2022-01-21 10:36:58,398 (INFO): Running stage 'SimpleSpawn_780567572954210848':\n",
      "> python3 -c \"from src.SimpleSpawn import SimpleSpawn; SimpleSpawn.load(name='SimpleSpawn_780567572954210848').run_and_save()\" \n",
      "Adding stage 'SimpleSpawn_780567572954210848' in 'dvc.yaml'\n",
      "Updating lock file 'dvc.lock'\n",
      "\n",
      "To track the changes with git, run:\n",
      "\n",
      "    git add dvc.yaml dvc.lock nodes/SimpleSpawn_780567572954210848/.gitignore\n",
      "\n",
      "To enable auto staging, run:\n",
      "\n",
      "\tdvc config core.autostage true\n",
      "\n",
      "2022-01-21 10:36:58,426 (WARNING): Jupyter support is an experimental feature! Please save your notebook before running this command!\n",
      "Submit issues to https://github.com/zincware/ZnTrack.\n",
      "2022-01-21 10:36:58,427 (WARNING): Converting 07_spawn_nodes.ipynb to file SimpleSpawn.py\n"
     ]
    },
    {
     "name": "stderr",
     "output_type": "stream",
     "text": [
      "[NbConvertApp] Converting notebook 07_spawn_nodes.ipynb to script\n"
     ]
    },
    {
     "name": "stdout",
     "output_type": "stream",
     "text": [
      "2022-01-21 10:37:01,836 (WARNING): --- Writing new DVC file! ---\n",
      "2022-01-21 10:37:01,837 (WARNING): You will not be able to see the stdout/stderr of the process in real time!\n"
     ]
    },
    {
     "name": "stderr",
     "output_type": "stream",
     "text": [
      "[NbConvertApp] Writing 2319 bytes to 07_spawn_nodes.py\n"
     ]
    },
    {
     "name": "stdout",
     "output_type": "stream",
     "text": [
      "2022-01-21 10:37:06,161 (INFO): Running stage 'SimpleSpawn_6941779437837838163':\n",
      "> python3 -c \"from src.SimpleSpawn import SimpleSpawn; SimpleSpawn.load(name='SimpleSpawn_6941779437837838163').run_and_save()\" \n",
      "Adding stage 'SimpleSpawn_6941779437837838163' in 'dvc.yaml'\n",
      "Updating lock file 'dvc.lock'\n",
      "\n",
      "To track the changes with git, run:\n",
      "\n",
      "    git add dvc.yaml nodes/SimpleSpawn_6941779437837838163/.gitignore dvc.lock\n",
      "\n",
      "To enable auto staging, run:\n",
      "\n",
      "\tdvc config core.autostage true\n",
      "\n",
      "2022-01-21 10:37:06,192 (WARNING): Jupyter support is an experimental feature! Please save your notebook before running this command!\n",
      "Submit issues to https://github.com/zincware/ZnTrack.\n",
      "2022-01-21 10:37:06,192 (WARNING): Converting 07_spawn_nodes.ipynb to file SimpleSpawn.py\n"
     ]
    },
    {
     "name": "stderr",
     "output_type": "stream",
     "text": [
      "[NbConvertApp] Converting notebook 07_spawn_nodes.ipynb to script\n"
     ]
    },
    {
     "name": "stdout",
     "output_type": "stream",
     "text": [
      "2022-01-21 10:37:09,474 (WARNING): --- Writing new DVC file! ---\n",
      "2022-01-21 10:37:09,475 (WARNING): You will not be able to see the stdout/stderr of the process in real time!\n"
     ]
    },
    {
     "name": "stderr",
     "output_type": "stream",
     "text": [
      "[NbConvertApp] Writing 2319 bytes to 07_spawn_nodes.py\n"
     ]
    },
    {
     "name": "stdout",
     "output_type": "stream",
     "text": [
      "2022-01-21 10:37:13,621 (INFO): Running stage 'SimpleSpawn_151934013762528779':\n",
      "> python3 -c \"from src.SimpleSpawn import SimpleSpawn; SimpleSpawn.load(name='SimpleSpawn_151934013762528779').run_and_save()\" \n",
      "Adding stage 'SimpleSpawn_151934013762528779' in 'dvc.yaml'\n",
      "Updating lock file 'dvc.lock'\n",
      "\n",
      "To track the changes with git, run:\n",
      "\n",
      "    git add nodes/SimpleSpawn_151934013762528779/.gitignore dvc.yaml dvc.lock\n",
      "\n",
      "To enable auto staging, run:\n",
      "\n",
      "\tdvc config core.autostage true\n",
      "\n",
      "2022-01-21 10:37:13,654 (WARNING): Jupyter support is an experimental feature! Please save your notebook before running this command!\n",
      "Submit issues to https://github.com/zincware/ZnTrack.\n",
      "2022-01-21 10:37:13,655 (WARNING): Converting 07_spawn_nodes.ipynb to file SimpleSpawn.py\n"
     ]
    },
    {
     "name": "stderr",
     "output_type": "stream",
     "text": [
      "[NbConvertApp] Converting notebook 07_spawn_nodes.ipynb to script\n"
     ]
    },
    {
     "name": "stdout",
     "output_type": "stream",
     "text": [
      "2022-01-21 10:37:16,905 (WARNING): --- Writing new DVC file! ---\n",
      "2022-01-21 10:37:16,905 (WARNING): You will not be able to see the stdout/stderr of the process in real time!\n"
     ]
    },
    {
     "name": "stderr",
     "output_type": "stream",
     "text": [
      "[NbConvertApp] Writing 2319 bytes to 07_spawn_nodes.py\n"
     ]
    },
    {
     "name": "stdout",
     "output_type": "stream",
     "text": [
      "2022-01-21 10:37:21,102 (INFO): Running stage 'SimpleSpawn_881289890106575262':\n",
      "> python3 -c \"from src.SimpleSpawn import SimpleSpawn; SimpleSpawn.load(name='SimpleSpawn_881289890106575262').run_and_save()\" \n",
      "Adding stage 'SimpleSpawn_881289890106575262' in 'dvc.yaml'\n",
      "Updating lock file 'dvc.lock'\n",
      "\n",
      "To track the changes with git, run:\n",
      "\n",
      "    git add nodes/SimpleSpawn_881289890106575262/.gitignore dvc.yaml dvc.lock\n",
      "\n",
      "To enable auto staging, run:\n",
      "\n",
      "\tdvc config core.autostage true\n",
      "\n",
      "2022-01-21 10:37:21,139 (WARNING): Jupyter support is an experimental feature! Please save your notebook before running this command!\n",
      "Submit issues to https://github.com/zincware/ZnTrack.\n",
      "2022-01-21 10:37:21,139 (WARNING): Converting 07_spawn_nodes.ipynb to file SimpleSpawn.py\n"
     ]
    },
    {
     "name": "stderr",
     "output_type": "stream",
     "text": [
      "[NbConvertApp] Converting notebook 07_spawn_nodes.ipynb to script\n"
     ]
    },
    {
     "name": "stdout",
     "output_type": "stream",
     "text": [
      "2022-01-21 10:37:24,379 (WARNING): --- Writing new DVC file! ---\n",
      "2022-01-21 10:37:24,380 (WARNING): You will not be able to see the stdout/stderr of the process in real time!\n"
     ]
    },
    {
     "name": "stderr",
     "output_type": "stream",
     "text": [
      "[NbConvertApp] Writing 2319 bytes to 07_spawn_nodes.py\n"
     ]
    },
    {
     "name": "stdout",
     "output_type": "stream",
     "text": [
      "2022-01-21 10:37:28,896 (INFO): Running stage 'SimpleSpawn_235315233780963561':\n",
      "> python3 -c \"from src.SimpleSpawn import SimpleSpawn; SimpleSpawn.load(name='SimpleSpawn_235315233780963561').run_and_save()\" \n",
      "Adding stage 'SimpleSpawn_235315233780963561' in 'dvc.yaml'\n",
      "Updating lock file 'dvc.lock'\n",
      "\n",
      "To track the changes with git, run:\n",
      "\n",
      "    git add nodes/SimpleSpawn_235315233780963561/.gitignore dvc.yaml dvc.lock\n",
      "\n",
      "To enable auto staging, run:\n",
      "\n",
      "\tdvc config core.autostage true\n",
      "\n",
      "2022-01-21 10:37:28,932 (WARNING): Jupyter support is an experimental feature! Please save your notebook before running this command!\n",
      "Submit issues to https://github.com/zincware/ZnTrack.\n",
      "2022-01-21 10:37:28,932 (WARNING): Converting 07_spawn_nodes.ipynb to file SimpleSpawn.py\n"
     ]
    },
    {
     "name": "stderr",
     "output_type": "stream",
     "text": [
      "[NbConvertApp] Converting notebook 07_spawn_nodes.ipynb to script\n"
     ]
    },
    {
     "name": "stdout",
     "output_type": "stream",
     "text": [
      "2022-01-21 10:37:32,283 (WARNING): --- Writing new DVC file! ---\n",
      "2022-01-21 10:37:32,284 (WARNING): You will not be able to see the stdout/stderr of the process in real time!\n"
     ]
    },
    {
     "name": "stderr",
     "output_type": "stream",
     "text": [
      "[NbConvertApp] Writing 2319 bytes to 07_spawn_nodes.py\n"
     ]
    },
    {
     "name": "stdout",
     "output_type": "stream",
     "text": [
      "2022-01-21 10:37:36,773 (INFO): Running stage 'SimpleSpawn_8909330453470453846':\n",
      "> python3 -c \"from src.SimpleSpawn import SimpleSpawn; SimpleSpawn.load(name='SimpleSpawn_8909330453470453846').run_and_save()\" \n",
      "Adding stage 'SimpleSpawn_8909330453470453846' in 'dvc.yaml'\n",
      "Updating lock file 'dvc.lock'\n",
      "\n",
      "To track the changes with git, run:\n",
      "\n",
      "    git add nodes/SimpleSpawn_8909330453470453846/.gitignore dvc.yaml dvc.lock\n",
      "\n",
      "To enable auto staging, run:\n",
      "\n",
      "\tdvc config core.autostage true\n",
      "\n",
      "2022-01-21 10:37:36,812 (WARNING): Jupyter support is an experimental feature! Please save your notebook before running this command!\n",
      "Submit issues to https://github.com/zincware/ZnTrack.\n",
      "2022-01-21 10:37:36,812 (WARNING): Converting 07_spawn_nodes.ipynb to file SimpleSpawn.py\n"
     ]
    },
    {
     "name": "stderr",
     "output_type": "stream",
     "text": [
      "[NbConvertApp] Converting notebook 07_spawn_nodes.ipynb to script\n"
     ]
    },
    {
     "name": "stdout",
     "output_type": "stream",
     "text": [
      "2022-01-21 10:37:40,052 (WARNING): --- Writing new DVC file! ---\n",
      "2022-01-21 10:37:40,054 (WARNING): You will not be able to see the stdout/stderr of the process in real time!\n"
     ]
    },
    {
     "name": "stderr",
     "output_type": "stream",
     "text": [
      "[NbConvertApp] Writing 2319 bytes to 07_spawn_nodes.py\n"
     ]
    },
    {
     "name": "stdout",
     "output_type": "stream",
     "text": [
      "2022-01-21 10:37:44,579 (INFO): Running stage 'SimpleSpawn_5022122385238920309':\n",
      "> python3 -c \"from src.SimpleSpawn import SimpleSpawn; SimpleSpawn.load(name='SimpleSpawn_5022122385238920309').run_and_save()\" \n",
      "Adding stage 'SimpleSpawn_5022122385238920309' in 'dvc.yaml'\n",
      "Updating lock file 'dvc.lock'\n",
      "\n",
      "To track the changes with git, run:\n",
      "\n",
      "    git add dvc.lock nodes/SimpleSpawn_5022122385238920309/.gitignore dvc.yaml\n",
      "\n",
      "To enable auto staging, run:\n",
      "\n",
      "\tdvc config core.autostage true\n",
      "\n",
      "2022-01-21 10:37:44,622 (WARNING): Jupyter support is an experimental feature! Please save your notebook before running this command!\n",
      "Submit issues to https://github.com/zincware/ZnTrack.\n",
      "2022-01-21 10:37:44,623 (WARNING): Converting 07_spawn_nodes.ipynb to file SimpleSpawn.py\n"
     ]
    },
    {
     "name": "stderr",
     "output_type": "stream",
     "text": [
      "[NbConvertApp] Converting notebook 07_spawn_nodes.ipynb to script\n"
     ]
    },
    {
     "name": "stdout",
     "output_type": "stream",
     "text": [
      "2022-01-21 10:37:47,872 (WARNING): --- Writing new DVC file! ---\n",
      "2022-01-21 10:37:47,873 (WARNING): You will not be able to see the stdout/stderr of the process in real time!\n"
     ]
    },
    {
     "name": "stderr",
     "output_type": "stream",
     "text": [
      "[NbConvertApp] Writing 2319 bytes to 07_spawn_nodes.py\n"
     ]
    },
    {
     "name": "stdout",
     "output_type": "stream",
     "text": [
      "2022-01-21 10:37:52,718 (INFO): Running stage 'SimpleSpawn_131397400581123985':\n",
      "> python3 -c \"from src.SimpleSpawn import SimpleSpawn; SimpleSpawn.load(name='SimpleSpawn_131397400581123985').run_and_save()\" \n",
      "Adding stage 'SimpleSpawn_131397400581123985' in 'dvc.yaml'\n",
      "Updating lock file 'dvc.lock'\n",
      "\n",
      "To track the changes with git, run:\n",
      "\n",
      "    git add dvc.yaml dvc.lock nodes/SimpleSpawn_131397400581123985/.gitignore\n",
      "\n",
      "To enable auto staging, run:\n",
      "\n",
      "\tdvc config core.autostage true\n",
      "\n",
      "2022-01-21 10:37:52,762 (WARNING): Jupyter support is an experimental feature! Please save your notebook before running this command!\n",
      "Submit issues to https://github.com/zincware/ZnTrack.\n",
      "2022-01-21 10:37:52,764 (WARNING): Converting 07_spawn_nodes.ipynb to file SimpleSpawn.py\n"
     ]
    },
    {
     "name": "stderr",
     "output_type": "stream",
     "text": [
      "[NbConvertApp] Converting notebook 07_spawn_nodes.ipynb to script\n"
     ]
    },
    {
     "name": "stdout",
     "output_type": "stream",
     "text": [
      "2022-01-21 10:37:56,466 (WARNING): --- Writing new DVC file! ---\n",
      "2022-01-21 10:37:56,466 (WARNING): You will not be able to see the stdout/stderr of the process in real time!\n"
     ]
    },
    {
     "name": "stderr",
     "output_type": "stream",
     "text": [
      "[NbConvertApp] Writing 2319 bytes to 07_spawn_nodes.py\n"
     ]
    },
    {
     "name": "stdout",
     "output_type": "stream",
     "text": [
      "2022-01-21 10:38:01,541 (INFO): Running stage 'SimpleSpawn_004809466161702429':\n",
      "> python3 -c \"from src.SimpleSpawn import SimpleSpawn; SimpleSpawn.load(name='SimpleSpawn_004809466161702429').run_and_save()\" \n",
      "Adding stage 'SimpleSpawn_004809466161702429' in 'dvc.yaml'\n",
      "Updating lock file 'dvc.lock'\n",
      "\n",
      "To track the changes with git, run:\n",
      "\n",
      "    git add nodes/SimpleSpawn_004809466161702429/.gitignore dvc.yaml dvc.lock\n",
      "\n",
      "To enable auto staging, run:\n",
      "\n",
      "\tdvc config core.autostage true\n",
      "\n",
      "2022-01-21 10:38:01,587 (WARNING): Jupyter support is an experimental feature! Please save your notebook before running this command!\n",
      "Submit issues to https://github.com/zincware/ZnTrack.\n",
      "2022-01-21 10:38:01,587 (WARNING): Converting 07_spawn_nodes.ipynb to file SimpleSpawn.py\n"
     ]
    },
    {
     "name": "stderr",
     "output_type": "stream",
     "text": [
      "[NbConvertApp] Converting notebook 07_spawn_nodes.ipynb to script\n"
     ]
    },
    {
     "name": "stdout",
     "output_type": "stream",
     "text": [
      "2022-01-21 10:38:05,756 (WARNING): --- Writing new DVC file! ---\n",
      "2022-01-21 10:38:05,757 (WARNING): You will not be able to see the stdout/stderr of the process in real time!\n"
     ]
    },
    {
     "name": "stderr",
     "output_type": "stream",
     "text": [
      "[NbConvertApp] Writing 2319 bytes to 07_spawn_nodes.py\n"
     ]
    },
    {
     "name": "stdout",
     "output_type": "stream",
     "text": [
      "2022-01-21 10:38:10,713 (INFO): Running stage 'SimpleSpawn_529130307634125862':\n",
      "> python3 -c \"from src.SimpleSpawn import SimpleSpawn; SimpleSpawn.load(name='SimpleSpawn_529130307634125862').run_and_save()\" \n",
      "Adding stage 'SimpleSpawn_529130307634125862' in 'dvc.yaml'\n",
      "Updating lock file 'dvc.lock'\n",
      "\n",
      "To track the changes with git, run:\n",
      "\n",
      "    git add nodes/SimpleSpawn_529130307634125862/.gitignore dvc.lock dvc.yaml\n",
      "\n",
      "To enable auto staging, run:\n",
      "\n",
      "\tdvc config core.autostage true\n",
      "\n",
      "2022-01-21 10:38:10,758 (WARNING): Jupyter support is an experimental feature! Please save your notebook before running this command!\n",
      "Submit issues to https://github.com/zincware/ZnTrack.\n",
      "2022-01-21 10:38:10,759 (WARNING): Converting 07_spawn_nodes.ipynb to file SimpleSpawn.py\n"
     ]
    },
    {
     "name": "stderr",
     "output_type": "stream",
     "text": [
      "[NbConvertApp] Converting notebook 07_spawn_nodes.ipynb to script\n"
     ]
    },
    {
     "name": "stdout",
     "output_type": "stream",
     "text": [
      "2022-01-21 10:38:14,118 (WARNING): --- Writing new DVC file! ---\n",
      "2022-01-21 10:38:14,119 (WARNING): You will not be able to see the stdout/stderr of the process in real time!\n"
     ]
    },
    {
     "name": "stderr",
     "output_type": "stream",
     "text": [
      "[NbConvertApp] Writing 2319 bytes to 07_spawn_nodes.py\n"
     ]
    },
    {
     "name": "stdout",
     "output_type": "stream",
     "text": [
      "2022-01-21 10:38:18,934 (INFO): Running stage 'SimpleSpawn_2565833529869882708':\n",
      "> python3 -c \"from src.SimpleSpawn import SimpleSpawn; SimpleSpawn.load(name='SimpleSpawn_2565833529869882708').run_and_save()\" \n",
      "Adding stage 'SimpleSpawn_2565833529869882708' in 'dvc.yaml'\n",
      "Updating lock file 'dvc.lock'\n",
      "\n",
      "To track the changes with git, run:\n",
      "\n",
      "    git add dvc.lock nodes/SimpleSpawn_2565833529869882708/.gitignore dvc.yaml\n",
      "\n",
      "To enable auto staging, run:\n",
      "\n",
      "\tdvc config core.autostage true\n",
      "\n",
      "2022-01-21 10:38:18,982 (WARNING): Jupyter support is an experimental feature! Please save your notebook before running this command!\n",
      "Submit issues to https://github.com/zincware/ZnTrack.\n",
      "2022-01-21 10:38:18,983 (WARNING): Converting 07_spawn_nodes.ipynb to file SimpleSpawn.py\n"
     ]
    },
    {
     "name": "stderr",
     "output_type": "stream",
     "text": [
      "[NbConvertApp] Converting notebook 07_spawn_nodes.ipynb to script\n"
     ]
    },
    {
     "name": "stdout",
     "output_type": "stream",
     "text": [
      "2022-01-21 10:38:22,290 (WARNING): --- Writing new DVC file! ---\n",
      "2022-01-21 10:38:22,291 (WARNING): You will not be able to see the stdout/stderr of the process in real time!\n"
     ]
    },
    {
     "name": "stderr",
     "output_type": "stream",
     "text": [
      "[NbConvertApp] Writing 2319 bytes to 07_spawn_nodes.py\n"
     ]
    },
    {
     "name": "stdout",
     "output_type": "stream",
     "text": [
      "2022-01-21 10:38:27,195 (INFO): Running stage 'SimpleSpawn_100053916355535221':\n",
      "> python3 -c \"from src.SimpleSpawn import SimpleSpawn; SimpleSpawn.load(name='SimpleSpawn_100053916355535221').run_and_save()\" \n",
      "Adding stage 'SimpleSpawn_100053916355535221' in 'dvc.yaml'\n",
      "Updating lock file 'dvc.lock'\n",
      "\n",
      "To track the changes with git, run:\n",
      "\n",
      "    git add dvc.yaml nodes/SimpleSpawn_100053916355535221/.gitignore dvc.lock\n",
      "\n",
      "To enable auto staging, run:\n",
      "\n",
      "\tdvc config core.autostage true\n",
      "\n",
      "2022-01-21 10:38:27,245 (WARNING): Jupyter support is an experimental feature! Please save your notebook before running this command!\n",
      "Submit issues to https://github.com/zincware/ZnTrack.\n",
      "2022-01-21 10:38:27,246 (WARNING): Converting 07_spawn_nodes.ipynb to file SimpleSpawn.py\n"
     ]
    },
    {
     "name": "stderr",
     "output_type": "stream",
     "text": [
      "[NbConvertApp] Converting notebook 07_spawn_nodes.ipynb to script\n"
     ]
    },
    {
     "name": "stdout",
     "output_type": "stream",
     "text": [
      "2022-01-21 10:38:30,631 (WARNING): --- Writing new DVC file! ---\n",
      "2022-01-21 10:38:30,632 (WARNING): You will not be able to see the stdout/stderr of the process in real time!\n"
     ]
    },
    {
     "name": "stderr",
     "output_type": "stream",
     "text": [
      "[NbConvertApp] Writing 2319 bytes to 07_spawn_nodes.py\n"
     ]
    },
    {
     "name": "stdout",
     "output_type": "stream",
     "text": [
      "2022-01-21 10:38:35,485 (INFO): Running stage 'SimpleSpawn_112471733661748416':\n",
      "> python3 -c \"from src.SimpleSpawn import SimpleSpawn; SimpleSpawn.load(name='SimpleSpawn_112471733661748416').run_and_save()\" \n",
      "Adding stage 'SimpleSpawn_112471733661748416' in 'dvc.yaml'\n",
      "Updating lock file 'dvc.lock'\n",
      "\n",
      "To track the changes with git, run:\n",
      "\n",
      "    git add dvc.lock nodes/SimpleSpawn_112471733661748416/.gitignore dvc.yaml\n",
      "\n",
      "To enable auto staging, run:\n",
      "\n",
      "\tdvc config core.autostage true\n",
      "\n",
      "2022-01-21 10:38:35,537 (WARNING): Jupyter support is an experimental feature! Please save your notebook before running this command!\n",
      "Submit issues to https://github.com/zincware/ZnTrack.\n",
      "2022-01-21 10:38:35,538 (WARNING): Converting 07_spawn_nodes.ipynb to file SimpleSpawn.py\n"
     ]
    },
    {
     "name": "stderr",
     "output_type": "stream",
     "text": [
      "[NbConvertApp] Converting notebook 07_spawn_nodes.ipynb to script\n"
     ]
    },
    {
     "name": "stdout",
     "output_type": "stream",
     "text": [
      "2022-01-21 10:38:38,836 (WARNING): --- Writing new DVC file! ---\n",
      "2022-01-21 10:38:38,837 (WARNING): You will not be able to see the stdout/stderr of the process in real time!\n"
     ]
    },
    {
     "name": "stderr",
     "output_type": "stream",
     "text": [
      "[NbConvertApp] Writing 2319 bytes to 07_spawn_nodes.py\n"
     ]
    },
    {
     "name": "stdout",
     "output_type": "stream",
     "text": [
      "2022-01-21 10:38:43,612 (INFO): Running stage 'SimpleSpawn_8428702820015841447':\n",
      "> python3 -c \"from src.SimpleSpawn import SimpleSpawn; SimpleSpawn.load(name='SimpleSpawn_8428702820015841447').run_and_save()\" \n",
      "Adding stage 'SimpleSpawn_8428702820015841447' in 'dvc.yaml'\n",
      "Updating lock file 'dvc.lock'\n",
      "\n",
      "To track the changes with git, run:\n",
      "\n",
      "    git add dvc.yaml dvc.lock nodes/SimpleSpawn_8428702820015841447/.gitignore\n",
      "\n",
      "To enable auto staging, run:\n",
      "\n",
      "\tdvc config core.autostage true\n",
      "\n",
      "2022-01-21 10:38:43,667 (WARNING): Jupyter support is an experimental feature! Please save your notebook before running this command!\n",
      "Submit issues to https://github.com/zincware/ZnTrack.\n",
      "2022-01-21 10:38:43,667 (WARNING): Converting 07_spawn_nodes.ipynb to file SimpleSpawn.py\n"
     ]
    },
    {
     "name": "stderr",
     "output_type": "stream",
     "text": [
      "[NbConvertApp] Converting notebook 07_spawn_nodes.ipynb to script\n"
     ]
    },
    {
     "name": "stdout",
     "output_type": "stream",
     "text": [
      "2022-01-21 10:38:47,059 (WARNING): --- Writing new DVC file! ---\n",
      "2022-01-21 10:38:47,060 (WARNING): You will not be able to see the stdout/stderr of the process in real time!\n"
     ]
    },
    {
     "name": "stderr",
     "output_type": "stream",
     "text": [
      "[NbConvertApp] Writing 2319 bytes to 07_spawn_nodes.py\n"
     ]
    },
    {
     "name": "stdout",
     "output_type": "stream",
     "text": [
      "2022-01-21 10:38:52,051 (INFO): Running stage 'SimpleSpawn_7512016711333950082':\n",
      "> python3 -c \"from src.SimpleSpawn import SimpleSpawn; SimpleSpawn.load(name='SimpleSpawn_7512016711333950082').run_and_save()\" \n",
      "Adding stage 'SimpleSpawn_7512016711333950082' in 'dvc.yaml'\n",
      "Updating lock file 'dvc.lock'\n",
      "\n",
      "To track the changes with git, run:\n",
      "\n",
      "    git add dvc.lock nodes/SimpleSpawn_7512016711333950082/.gitignore dvc.yaml\n",
      "\n",
      "To enable auto staging, run:\n",
      "\n",
      "\tdvc config core.autostage true\n",
      "\n",
      "2022-01-21 10:38:52,108 (WARNING): Jupyter support is an experimental feature! Please save your notebook before running this command!\n",
      "Submit issues to https://github.com/zincware/ZnTrack.\n",
      "2022-01-21 10:38:52,108 (WARNING): Converting 07_spawn_nodes.ipynb to file SimpleSpawn.py\n"
     ]
    },
    {
     "name": "stderr",
     "output_type": "stream",
     "text": [
      "[NbConvertApp] Converting notebook 07_spawn_nodes.ipynb to script\n"
     ]
    },
    {
     "name": "stdout",
     "output_type": "stream",
     "text": [
      "2022-01-21 10:38:55,476 (WARNING): --- Writing new DVC file! ---\n",
      "2022-01-21 10:38:55,477 (WARNING): You will not be able to see the stdout/stderr of the process in real time!\n"
     ]
    },
    {
     "name": "stderr",
     "output_type": "stream",
     "text": [
      "[NbConvertApp] Writing 2319 bytes to 07_spawn_nodes.py\n"
     ]
    },
    {
     "name": "stdout",
     "output_type": "stream",
     "text": [
      "2022-01-21 10:39:00,685 (INFO): Running stage 'SimpleSpawn_495737164668004840':\n",
      "> python3 -c \"from src.SimpleSpawn import SimpleSpawn; SimpleSpawn.load(name='SimpleSpawn_495737164668004840').run_and_save()\" \n",
      "Adding stage 'SimpleSpawn_495737164668004840' in 'dvc.yaml'\n",
      "Updating lock file 'dvc.lock'\n",
      "\n",
      "To track the changes with git, run:\n",
      "\n",
      "    git add nodes/SimpleSpawn_495737164668004840/.gitignore dvc.yaml dvc.lock\n",
      "\n",
      "To enable auto staging, run:\n",
      "\n",
      "\tdvc config core.autostage true\n",
      "\n"
     ]
    }
   ],
   "source": [
    "SimpleSpawn().write_graph(no_exec=False)"
   ]
  },
  {
   "cell_type": "code",
   "execution_count": 7,
   "outputs": [],
   "source": [
    "class SimplePool(Node):\n",
    "    spawned_nodes: typing.List[SimpleSpawn] = zn.deps([x for x in SimpleSpawn.load()])\n",
    "\n",
    "    def run(self):\n",
    "        for node in self.spawned_nodes:\n",
    "            print(\n",
    "                f\"Found {node.number} with start: {node.start}, stop: {node.stop}, step:\"\n",
    "                f\" {node.step}\"\n",
    "            )"
   ],
   "metadata": {
    "collapsed": false,
    "pycharm": {
     "name": "#%%\n"
    }
   }
  },
  {
   "cell_type": "code",
   "execution_count": 8,
   "outputs": [
    {
     "name": "stdout",
     "output_type": "stream",
     "text": [
      "2022-01-21 10:39:02,636 (WARNING): Jupyter support is an experimental feature! Please save your notebook before running this command!\n",
      "Submit issues to https://github.com/zincware/ZnTrack.\n",
      "2022-01-21 10:39:02,637 (WARNING): Converting 07_spawn_nodes.ipynb to file SimplePool.py\n"
     ]
    },
    {
     "name": "stderr",
     "output_type": "stream",
     "text": [
      "[NbConvertApp] Converting notebook 07_spawn_nodes.ipynb to script\n"
     ]
    },
    {
     "name": "stdout",
     "output_type": "stream",
     "text": [
      "2022-01-21 10:39:06,242 (WARNING): --- Writing new DVC file! ---\n"
     ]
    },
    {
     "name": "stderr",
     "output_type": "stream",
     "text": [
      "[NbConvertApp] Writing 2319 bytes to 07_spawn_nodes.py\n"
     ]
    },
    {
     "name": "stdout",
     "output_type": "stream",
     "text": [
      "2022-01-21 10:39:09,188 (INFO): Adding stage 'SimplePool' in 'dvc.yaml'\n",
      "\n",
      "To track the changes with git, run:\n",
      "\n",
      "    git add dvc.yaml\n",
      "\n",
      "To enable auto staging, run:\n",
      "\n",
      "\tdvc config core.autostage true\n",
      "\n"
     ]
    }
   ],
   "source": [
    "# Write the Graph for a better DVC Dag visual\n",
    "SimplePool().write_graph()"
   ],
   "metadata": {
    "collapsed": false,
    "pycharm": {
     "name": "#%%\n"
    }
   }
  },
  {
   "cell_type": "code",
   "execution_count": 9,
   "id": "2b99fa5a-bc72-4834-8f75-98d79be58e4c",
   "metadata": {},
   "outputs": [
    {
     "name": "stdout",
     "output_type": "stream",
     "text": [
      "+-------------------------------+  \r\n",
      "| SimpleSpawn_29250257008312838 |  \r\n",
      "+-------------------------------+  \r\n",
      "+--------------------------------+ \r\n",
      "| SimpleSpawn_916431072461512022 | \r\n",
      "+--------------------------------+ \r\n",
      "+---------------------------------+  \r\n",
      "| SimpleSpawn_4758323624432781219 |  \r\n",
      "+---------------------------------+  \r\n",
      "+---------------------------------+  \r\n",
      "| SimpleSpawn_8702743746611559658 |  \r\n",
      "+---------------------------------+  \r\n",
      "+---------------------------------+  \r\n",
      "| SimpleSpawn_7995629640613930476 |  \r\n",
      "+---------------------------------+  \r\n",
      "+---------------------------------+  \r\n",
      "| SimpleSpawn_4020163545100225476 |  \r\n",
      "+---------------------------------+  \r\n",
      "+-------------------------------+  \r\n",
      "| SimpleSpawn_58183689576663454 |  \r\n",
      "+-------------------------------+  \r\n",
      "+--------------------------------+ \r\n",
      "| SimpleSpawn_200020345442762651 | \r\n",
      "+--------------------------------+ \r\n",
      "+--------------------------------+ \r\n",
      "| SimpleSpawn_780567572954210848 | \r\n",
      "+--------------------------------+ \r\n",
      "+---------------------------------+  \r\n",
      "| SimpleSpawn_6941779437837838163 |  \r\n",
      "+---------------------------------+  \r\n",
      "+--------------------------------+ \r\n",
      "| SimpleSpawn_151934013762528779 | \r\n",
      "+--------------------------------+ \r\n",
      "+--------------------------------+ \r\n",
      "| SimpleSpawn_881289890106575262 | \r\n",
      "+--------------------------------+ \r\n",
      "+--------------------------------+ \r\n",
      "| SimpleSpawn_235315233780963561 | \r\n",
      "+--------------------------------+ \r\n",
      "+---------------------------------+  \r\n",
      "| SimpleSpawn_8909330453470453846 |  \r\n",
      "+---------------------------------+  \r\n",
      "+---------------------------------+  \r\n",
      "| SimpleSpawn_5022122385238920309 |  \r\n",
      "+---------------------------------+  \r\n",
      "+--------------------------------+ \r\n",
      "| SimpleSpawn_131397400581123985 | \r\n",
      "+--------------------------------+ \r\n",
      "+--------------------------------+ \r\n",
      "| SimpleSpawn_004809466161702429 | \r\n",
      "+--------------------------------+ \r\n",
      "+--------------------------------+ \r\n",
      "| SimpleSpawn_529130307634125862 | \r\n",
      "+--------------------------------+ \r\n",
      "+---------------------------------+  \r\n",
      "| SimpleSpawn_2565833529869882708 |  \r\n",
      "+---------------------------------+  \r\n",
      "+--------------------------------+ \r\n",
      "| SimpleSpawn_100053916355535221 | \r\n",
      "+--------------------------------+ \r\n",
      "+--------------------------------+ \r\n",
      "| SimpleSpawn_112471733661748416 | \r\n",
      "+--------------------------------+ \r\n",
      "+---------------------------------+  \r\n",
      "| SimpleSpawn_8428702820015841447 |  \r\n",
      "+---------------------------------+  \r\n",
      "+---------------------------------+  \r\n",
      "| SimpleSpawn_7512016711333950082 |  \r\n",
      "+---------------------------------+  \r\n",
      "+--------------------------------+ \r\n",
      "| SimpleSpawn_495737164668004840 | \r\n",
      "+--------------------------------+ \r\n",
      "+------------+ \r\n",
      "| SimplePool | \r\n",
      "+------------+ \r\n",
      "\u001B[0m"
     ]
    }
   ],
   "source": [
    "!dvc dag"
   ]
  },
  {
   "cell_type": "code",
   "execution_count": 10,
   "outputs": [
    {
     "name": "stdout",
     "output_type": "stream",
     "text": [
      "Found -85 with start: -100, stop: 1, step: 1\n",
      "Found -30 with start: -100, stop: 1, step: 10\n",
      "Found -77 with start: -100, stop: 10, step: 1\n",
      "Found 0 with start: -100, stop: 10, step: 10\n",
      "Found -6 with start: -100, stop: 100, step: 1\n",
      "Found -50 with start: -100, stop: 100, step: 10\n",
      "Found -8 with start: -10, stop: 1, step: 1\n",
      "Found -10 with start: -10, stop: 1, step: 10\n",
      "Found -9 with start: -10, stop: 10, step: 1\n",
      "Found 0 with start: -10, stop: 10, step: 10\n",
      "Found 9 with start: -10, stop: 100, step: 1\n",
      "Found -10 with start: -10, stop: 100, step: 10\n",
      "Found 0 with start: -1, stop: 1, step: 1\n",
      "Found -1 with start: -1, stop: 1, step: 10\n",
      "Found 3 with start: -1, stop: 10, step: 1\n",
      "Found -1 with start: -1, stop: 10, step: 10\n",
      "Found 82 with start: -1, stop: 100, step: 1\n",
      "Found 19 with start: -1, stop: 100, step: 10\n",
      "Found 0 with start: 0, stop: 1, step: 1\n",
      "Found 0 with start: 0, stop: 1, step: 10\n",
      "Found 0 with start: 0, stop: 10, step: 1\n",
      "Found 0 with start: 0, stop: 10, step: 10\n",
      "Found 7 with start: 0, stop: 100, step: 1\n",
      "Found 90 with start: 0, stop: 100, step: 10\n"
     ]
    }
   ],
   "source": [
    "SimplePool().run()"
   ],
   "metadata": {
    "collapsed": false,
    "pycharm": {
     "name": "#%%\n"
    }
   }
  },
  {
   "cell_type": "markdown",
   "source": [
    "We can modify this full gridsearch by adding `spawn_filter` which takes all `zn.Iterables()` as arguments:"
   ],
   "metadata": {
    "collapsed": false,
    "pycharm": {
     "name": "#%% md\n"
    }
   }
  },
  {
   "cell_type": "code",
   "execution_count": 11,
   "outputs": [],
   "source": [
    "class FilteredSpawn(SpawnNode):\n",
    "    param1 = zn.iterable([1, 2, 3])\n",
    "    param2 = zn.iterable([1, 2, 3])\n",
    "    param3 = zn.iterable([1, 2, 3])\n",
    "\n",
    "    numbers = zn.outs()\n",
    "\n",
    "    def spawn_filter(self, param1, param2, param3) -> bool:\n",
    "        return (param1 != param2) and (param1 != param3) and (param2 != param3)\n",
    "\n",
    "    def run(self):\n",
    "        self.numbers = [self.param1, self.param2, self.param3]"
   ],
   "metadata": {
    "collapsed": false,
    "pycharm": {
     "name": "#%%\n"
    }
   }
  },
  {
   "cell_type": "code",
   "execution_count": 12,
   "outputs": [
    {
     "data": {
      "text/plain": "[None, None, None, None, None, None]"
     },
     "execution_count": 12,
     "metadata": {},
     "output_type": "execute_result"
    }
   ],
   "source": [
    "[x.run() for x in FilteredSpawn()]"
   ],
   "metadata": {
    "collapsed": false,
    "pycharm": {
     "name": "#%%\n"
    }
   }
  },
  {
   "cell_type": "code",
   "execution_count": 13,
   "outputs": [
    {
     "name": "stdout",
     "output_type": "stream",
     "text": [
      "2022-01-21 10:39:13,147 (WARNING): Jupyter support is an experimental feature! Please save your notebook before running this command!\n",
      "Submit issues to https://github.com/zincware/ZnTrack.\n",
      "2022-01-21 10:39:13,148 (WARNING): Converting 07_spawn_nodes.ipynb to file FilteredSpawn.py\n"
     ]
    },
    {
     "name": "stderr",
     "output_type": "stream",
     "text": [
      "[NbConvertApp] Converting notebook 07_spawn_nodes.ipynb to script\n"
     ]
    },
    {
     "name": "stdout",
     "output_type": "stream",
     "text": [
      "2022-01-21 10:39:16,958 (WARNING): --- Writing new DVC file! ---\n",
      "2022-01-21 10:39:16,959 (WARNING): You will not be able to see the stdout/stderr of the process in real time!\n"
     ]
    },
    {
     "name": "stderr",
     "output_type": "stream",
     "text": [
      "[NbConvertApp] Writing 2319 bytes to 07_spawn_nodes.py\n"
     ]
    },
    {
     "name": "stdout",
     "output_type": "stream",
     "text": [
      "2022-01-21 10:39:22,442 (INFO): Running stage 'FilteredSpawn_221440661540414839':\n",
      "> python3 -c \"from src.FilteredSpawn import FilteredSpawn; FilteredSpawn.load(name='FilteredSpawn_221440661540414839').run_and_save()\" \n",
      "Adding stage 'FilteredSpawn_221440661540414839' in 'dvc.yaml'\n",
      "Updating lock file 'dvc.lock'\n",
      "\n",
      "To track the changes with git, run:\n",
      "\n",
      "    git add dvc.yaml dvc.lock nodes/FilteredSpawn_221440661540414839/.gitignore\n",
      "\n",
      "To enable auto staging, run:\n",
      "\n",
      "\tdvc config core.autostage true\n",
      "\n",
      "2022-01-21 10:39:22,507 (WARNING): Jupyter support is an experimental feature! Please save your notebook before running this command!\n",
      "Submit issues to https://github.com/zincware/ZnTrack.\n",
      "2022-01-21 10:39:22,507 (WARNING): Converting 07_spawn_nodes.ipynb to file FilteredSpawn.py\n"
     ]
    },
    {
     "name": "stderr",
     "output_type": "stream",
     "text": [
      "[NbConvertApp] Converting notebook 07_spawn_nodes.ipynb to script\n"
     ]
    },
    {
     "name": "stdout",
     "output_type": "stream",
     "text": [
      "2022-01-21 10:39:25,716 (WARNING): --- Writing new DVC file! ---\n",
      "2022-01-21 10:39:25,717 (WARNING): You will not be able to see the stdout/stderr of the process in real time!\n"
     ]
    },
    {
     "name": "stderr",
     "output_type": "stream",
     "text": [
      "[NbConvertApp] Writing 2319 bytes to 07_spawn_nodes.py\n"
     ]
    },
    {
     "name": "stdout",
     "output_type": "stream",
     "text": [
      "2022-01-21 10:39:31,109 (INFO): Running stage 'FilteredSpawn_823228259733862041':\n",
      "> python3 -c \"from src.FilteredSpawn import FilteredSpawn; FilteredSpawn.load(name='FilteredSpawn_823228259733862041').run_and_save()\" \n",
      "Adding stage 'FilteredSpawn_823228259733862041' in 'dvc.yaml'\n",
      "Updating lock file 'dvc.lock'\n",
      "\n",
      "To track the changes with git, run:\n",
      "\n",
      "    git add dvc.lock nodes/FilteredSpawn_823228259733862041/.gitignore dvc.yaml\n",
      "\n",
      "To enable auto staging, run:\n",
      "\n",
      "\tdvc config core.autostage true\n",
      "\n",
      "2022-01-21 10:39:31,171 (WARNING): Jupyter support is an experimental feature! Please save your notebook before running this command!\n",
      "Submit issues to https://github.com/zincware/ZnTrack.\n",
      "2022-01-21 10:39:31,172 (WARNING): Converting 07_spawn_nodes.ipynb to file FilteredSpawn.py\n"
     ]
    },
    {
     "name": "stderr",
     "output_type": "stream",
     "text": [
      "[NbConvertApp] Converting notebook 07_spawn_nodes.ipynb to script\n"
     ]
    },
    {
     "name": "stdout",
     "output_type": "stream",
     "text": [
      "2022-01-21 10:39:34,551 (WARNING): --- Writing new DVC file! ---\n",
      "2022-01-21 10:39:34,552 (WARNING): You will not be able to see the stdout/stderr of the process in real time!\n"
     ]
    },
    {
     "name": "stderr",
     "output_type": "stream",
     "text": [
      "[NbConvertApp] Writing 2319 bytes to 07_spawn_nodes.py\n"
     ]
    },
    {
     "name": "stdout",
     "output_type": "stream",
     "text": [
      "2022-01-21 10:39:40,695 (INFO): Running stage 'FilteredSpawn_743007179447588191':\n",
      "> python3 -c \"from src.FilteredSpawn import FilteredSpawn; FilteredSpawn.load(name='FilteredSpawn_743007179447588191').run_and_save()\" \n",
      "Adding stage 'FilteredSpawn_743007179447588191' in 'dvc.yaml'\n",
      "Updating lock file 'dvc.lock'\n",
      "\n",
      "To track the changes with git, run:\n",
      "\n",
      "    git add dvc.yaml nodes/FilteredSpawn_743007179447588191/.gitignore dvc.lock\n",
      "\n",
      "To enable auto staging, run:\n",
      "\n",
      "\tdvc config core.autostage true\n",
      "\n",
      "2022-01-21 10:39:40,761 (WARNING): Jupyter support is an experimental feature! Please save your notebook before running this command!\n",
      "Submit issues to https://github.com/zincware/ZnTrack.\n",
      "2022-01-21 10:39:40,761 (WARNING): Converting 07_spawn_nodes.ipynb to file FilteredSpawn.py\n"
     ]
    },
    {
     "name": "stderr",
     "output_type": "stream",
     "text": [
      "[NbConvertApp] Converting notebook 07_spawn_nodes.ipynb to script\n"
     ]
    },
    {
     "name": "stdout",
     "output_type": "stream",
     "text": [
      "2022-01-21 10:39:44,255 (WARNING): --- Writing new DVC file! ---\n",
      "2022-01-21 10:39:44,256 (WARNING): You will not be able to see the stdout/stderr of the process in real time!\n"
     ]
    },
    {
     "name": "stderr",
     "output_type": "stream",
     "text": [
      "[NbConvertApp] Writing 2319 bytes to 07_spawn_nodes.py\n"
     ]
    },
    {
     "name": "stdout",
     "output_type": "stream",
     "text": [
      "2022-01-21 10:39:50,124 (INFO): Running stage 'FilteredSpawn_1501482405544341133':\n",
      "> python3 -c \"from src.FilteredSpawn import FilteredSpawn; FilteredSpawn.load(name='FilteredSpawn_1501482405544341133').run_and_save()\" \n",
      "Adding stage 'FilteredSpawn_1501482405544341133' in 'dvc.yaml'\n",
      "Updating lock file 'dvc.lock'\n",
      "\n",
      "To track the changes with git, run:\n",
      "\n",
      "    git add dvc.lock nodes/FilteredSpawn_1501482405544341133/.gitignore dvc.yaml\n",
      "\n",
      "To enable auto staging, run:\n",
      "\n",
      "\tdvc config core.autostage true\n",
      "\n",
      "2022-01-21 10:39:50,194 (WARNING): Jupyter support is an experimental feature! Please save your notebook before running this command!\n",
      "Submit issues to https://github.com/zincware/ZnTrack.\n",
      "2022-01-21 10:39:50,195 (WARNING): Converting 07_spawn_nodes.ipynb to file FilteredSpawn.py\n"
     ]
    },
    {
     "name": "stderr",
     "output_type": "stream",
     "text": [
      "[NbConvertApp] Converting notebook 07_spawn_nodes.ipynb to script\n"
     ]
    },
    {
     "name": "stdout",
     "output_type": "stream",
     "text": [
      "2022-01-21 10:39:53,611 (WARNING): --- Writing new DVC file! ---\n",
      "2022-01-21 10:39:53,612 (WARNING): You will not be able to see the stdout/stderr of the process in real time!\n"
     ]
    },
    {
     "name": "stderr",
     "output_type": "stream",
     "text": [
      "[NbConvertApp] Writing 2319 bytes to 07_spawn_nodes.py\n"
     ]
    },
    {
     "name": "stdout",
     "output_type": "stream",
     "text": [
      "2022-01-21 10:39:59,061 (INFO): Running stage 'FilteredSpawn_5828334987964951800':\n",
      "> python3 -c \"from src.FilteredSpawn import FilteredSpawn; FilteredSpawn.load(name='FilteredSpawn_5828334987964951800').run_and_save()\" \n",
      "Adding stage 'FilteredSpawn_5828334987964951800' in 'dvc.yaml'\n",
      "Updating lock file 'dvc.lock'\n",
      "\n",
      "To track the changes with git, run:\n",
      "\n",
      "    git add dvc.lock nodes/FilteredSpawn_5828334987964951800/.gitignore dvc.yaml\n",
      "\n",
      "To enable auto staging, run:\n",
      "\n",
      "\tdvc config core.autostage true\n",
      "\n",
      "2022-01-21 10:39:59,133 (WARNING): Jupyter support is an experimental feature! Please save your notebook before running this command!\n",
      "Submit issues to https://github.com/zincware/ZnTrack.\n",
      "2022-01-21 10:39:59,134 (WARNING): Converting 07_spawn_nodes.ipynb to file FilteredSpawn.py\n"
     ]
    },
    {
     "name": "stderr",
     "output_type": "stream",
     "text": [
      "[NbConvertApp] Converting notebook 07_spawn_nodes.ipynb to script\n"
     ]
    },
    {
     "name": "stdout",
     "output_type": "stream",
     "text": [
      "2022-01-21 10:40:02,609 (WARNING): --- Writing new DVC file! ---\n",
      "2022-01-21 10:40:02,609 (WARNING): You will not be able to see the stdout/stderr of the process in real time!\n"
     ]
    },
    {
     "name": "stderr",
     "output_type": "stream",
     "text": [
      "[NbConvertApp] Writing 2319 bytes to 07_spawn_nodes.py\n"
     ]
    },
    {
     "name": "stdout",
     "output_type": "stream",
     "text": [
      "2022-01-21 10:40:08,331 (INFO): Running stage 'FilteredSpawn_3654597891015001599':\n",
      "> python3 -c \"from src.FilteredSpawn import FilteredSpawn; FilteredSpawn.load(name='FilteredSpawn_3654597891015001599').run_and_save()\" \n",
      "Adding stage 'FilteredSpawn_3654597891015001599' in 'dvc.yaml'\n",
      "Updating lock file 'dvc.lock'\n",
      "\n",
      "To track the changes with git, run:\n",
      "\n",
      "    git add dvc.yaml nodes/FilteredSpawn_3654597891015001599/.gitignore dvc.lock\n",
      "\n",
      "To enable auto staging, run:\n",
      "\n",
      "\tdvc config core.autostage true\n",
      "\n"
     ]
    }
   ],
   "source": [
    "FilteredSpawn().write_graph(no_exec=False)"
   ],
   "metadata": {
    "collapsed": false,
    "pycharm": {
     "name": "#%%\n"
    }
   }
  },
  {
   "cell_type": "markdown",
   "id": "7b59179c-0b15-45a6-97b1-b2d6cc1ebce3",
   "metadata": {
    "nbsphinx": "hidden",
    "tags": [],
    "pycharm": {
     "name": "#%% md\n"
    }
   },
   "source": [
    "temp_dir.cleanup()"
   ]
  },
  {
   "cell_type": "code",
   "execution_count": 14,
   "outputs": [
    {
     "data": {
      "text/plain": "[[1, 2, 3], [1, 3, 2], [2, 1, 3], [2, 3, 1], [3, 1, 2], [3, 2, 1]]"
     },
     "execution_count": 14,
     "metadata": {},
     "output_type": "execute_result"
    }
   ],
   "source": [
    "[x.numbers for x in FilteredSpawn.load()]"
   ],
   "metadata": {
    "collapsed": false,
    "pycharm": {
     "name": "#%%\n"
    }
   }
  },
  {
   "cell_type": "code",
   "execution_count": 15,
   "outputs": [],
   "source": [
    "temp_dir.cleanup()"
   ],
   "metadata": {
    "collapsed": false,
    "pycharm": {
     "name": "#%%\n"
    }
   }
  }
 ],
 "metadata": {
  "kernelspec": {
   "display_name": "Python 3 (ipykernel)",
   "language": "python",
   "name": "python3"
  },
  "language_info": {
   "codemirror_mode": {
    "name": "ipython",
    "version": 3
   },
   "file_extension": ".py",
   "mimetype": "text/x-python",
   "name": "python",
   "nbconvert_exporter": "python",
   "pygments_lexer": "ipython3",
   "version": "3.9.7"
  }
 },
 "nbformat": 4,
 "nbformat_minor": 5
}