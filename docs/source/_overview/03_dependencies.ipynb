{
 "cells": [
  {
   "cell_type": "markdown",
   "id": "a781fb6d",
   "metadata": {},
   "source": [
    "# Dependencies\n",
    "\n",
    "For ZnTrack there are two different ways to set up dependencies:\n",
    "\n",
    "1. Node/Stage based dependencies\n",
    "2. File based dependencies\n",
    "\n",
    "## Node dependencies\n",
    "We will first look at Node based dependencies starting from a RandomNumber `Hello World` example.\n",
    "In our first stage we create a random number and then we add another Node that depends on this one.\n",
    "We can do this very easily by setting the `dvc.deps` in the following way\n",
    "```py\n",
    "dependency: Stage = dvc.deps(Stage(load=True))\n",
    "```\n",
    "\n",
    "This allows us to access all properties of the `dependency` attribute."
   ]
  },
  {
   "cell_type": "code",
   "execution_count": 1,
   "id": "2e8ff1cd-7967-4c0e-8f77-32c8a0ecd94b",
   "metadata": {},
   "outputs": [],
   "source": [
    "from zntrack import Node, dvc, zn, config\n",
    "from random import randrange\n",
    "from pathlib import Path"
   ]
  },
  {
   "cell_type": "code",
   "execution_count": 2,
   "id": "9d8da8c5-f05d-4832-804c-0ad78cdfb851",
   "metadata": {},
   "outputs": [],
   "source": [
    "config.nb_name = \"03_dependencies.ipynb\""
   ]
  },
  {
   "cell_type": "code",
   "execution_count": 3,
   "id": "a9842607-b54f-46bb-a708-269566dc0fbc",
   "metadata": {
    "nbsphinx": "hidden",
    "tags": []
   },
   "outputs": [],
   "source": [
    "from zntrack.utils import cwd_temp_dir\n",
    "temp_dir = cwd_temp_dir()"
   ]
  },
  {
   "cell_type": "code",
   "execution_count": 4,
   "id": "71c2830e-c74a-4e49-84da-4cd9d8985423",
   "metadata": {
    "pycharm": {
     "name": "#%%\n"
    }
   },
   "outputs": [
    {
     "name": "stdout",
     "output_type": "stream",
     "text": [
      "Initialized empty Git repository in /tmp/tmp786zcf_9/.git/\n",
      "Initialized DVC repository.\n",
      "\n",
      "You can now commit the changes to git.\n",
      "\n",
      "\u001b[31m+---------------------------------------------------------------------+\n",
      "\u001b[0m\u001b[31m|\u001b[0m                                                                     \u001b[31m|\u001b[0m\n",
      "\u001b[31m|\u001b[0m        DVC has enabled anonymous aggregate usage analytics.         \u001b[31m|\u001b[0m\n",
      "\u001b[31m|\u001b[0m     Read the analytics documentation (and how to opt-out) here:     \u001b[31m|\u001b[0m\n",
      "\u001b[31m|\u001b[0m             <\u001b[36mhttps://dvc.org/doc/user-guide/analytics\u001b[39m>              \u001b[31m|\u001b[0m\n",
      "\u001b[31m|\u001b[0m                                                                     \u001b[31m|\u001b[0m\n",
      "\u001b[31m+---------------------------------------------------------------------+\n",
      "\u001b[0m\n",
      "\u001b[33mWhat's next?\u001b[39m\n",
      "\u001b[33m------------\u001b[39m\n",
      "- Check out the documentation: <\u001b[36mhttps://dvc.org/doc\u001b[39m>\n",
      "- Get help and share ideas: <\u001b[36mhttps://dvc.org/chat\u001b[39m>\n",
      "- Star us on GitHub: <\u001b[36mhttps://github.com/iterative/dvc\u001b[39m>\n",
      "\u001b[0m"
     ]
    }
   ],
   "source": [
    "!git init\n",
    "!dvc init"
   ]
  },
  {
   "cell_type": "code",
   "execution_count": 5,
   "id": "410e335c-c62b-4bda-932d-db97c3a84b2c",
   "metadata": {
    "tags": []
   },
   "outputs": [
    {
     "name": "stdout",
     "output_type": "stream",
     "text": [
      "2021-11-30 16:17:50,049 (WARNING): Jupyter support is an experimental feature! Please save your notebook before running this command!\n",
      "Submit issues to https://github.com/zincware/ZnTrack.\n"
     ]
    },
    {
     "name": "stderr",
     "output_type": "stream",
     "text": [
      "[NbConvertApp] Converting notebook 03_dependencies.ipynb to script\n"
     ]
    },
    {
     "name": "stdout",
     "output_type": "stream",
     "text": [
      "2021-11-30 16:17:53,411 (WARNING): Jupyter support is an experimental feature! Please save your notebook before running this command!\n",
      "Submit issues to https://github.com/zincware/ZnTrack.\n"
     ]
    },
    {
     "name": "stderr",
     "output_type": "stream",
     "text": [
      "[NbConvertApp] Writing 3414 bytes to 03_dependencies.py\n",
      "[NbConvertApp] Converting notebook 03_dependencies.ipynb to script\n",
      "[NbConvertApp] Writing 3414 bytes to 03_dependencies.py\n"
     ]
    }
   ],
   "source": [
    "@Node()\n",
    "class RandomNumber:\n",
    "    maximum = dvc.params()\n",
    "    number = zn.outs()\n",
    "    \n",
    "    def __call__(self, maximum):\n",
    "        self.maximum = maximum\n",
    "        \n",
    "    def run(self):\n",
    "        self.number = float(randrange(self.maximum))\n",
    "\n",
    "@Node()\n",
    "class ComputePower:\n",
    "    random_number: RandomNumber = dvc.deps(RandomNumber(load=True))\n",
    "    number = dvc.result()\n",
    "    power = dvc.params()\n",
    "    \n",
    "    def __call__(self, power = 2):\n",
    "        self.power = power\n",
    "    \n",
    "    def run(self):\n",
    "        self.number = self.random_number.number ** self.power"
   ]
  },
  {
   "cell_type": "markdown",
   "id": "e6f37308-a942-467d-94f6-1e6edfe7b317",
   "metadata": {},
   "source": [
    "We can now create the stages the usual way and look at the outcomes"
   ]
  },
  {
   "cell_type": "code",
   "execution_count": 6,
   "id": "00353190-29c3-4954-a9b5-aec358b35fa9",
   "metadata": {},
   "outputs": [
    {
     "name": "stdout",
     "output_type": "stream",
     "text": [
      "2021-11-30 16:17:57,086 (WARNING): --- Writing new DVC file! ---\n",
      "2021-11-30 16:17:59,833 (INFO): Creating 'dvc.yaml'\n",
      "Adding stage 'RandomNumber' in 'dvc.yaml'\n",
      "\n",
      "To track the changes with git, run:\n",
      "\n",
      "\tgit add dvc.yaml nodes/RandomNumber/.gitignore\n",
      "\n",
      "2021-11-30 16:17:59,837 (WARNING): --- Writing new DVC file! ---\n",
      "2021-11-30 16:18:02,388 (INFO): Adding stage 'ComputePower' in 'dvc.yaml'\n",
      "\n",
      "To track the changes with git, run:\n",
      "\n",
      "\tgit add nodes/ComputePower/.gitignore dvc.yaml\n",
      "\n"
     ]
    }
   ],
   "source": [
    "RandomNumber()(maximum=16)\n",
    "ComputePower()(power=2.)"
   ]
  },
  {
   "cell_type": "code",
   "execution_count": 7,
   "id": "a1928386-539a-4698-81a1-e68e843e1415",
   "metadata": {},
   "outputs": [
    {
     "name": "stdout",
     "output_type": "stream",
     "text": [
      "Running stage 'RandomNumber':                                         core\u001b[39m>\n",
      "> python3 -c \"from src.RandomNumber import RandomNumber; RandomNumber(load=True, name='RandomNumber').run()\" \n",
      "Generating lock file 'dvc.lock'                                                 \n",
      "Updating lock file 'dvc.lock'\n",
      "\n",
      "Running stage 'ComputePower':\n",
      "> python3 -c \"from src.ComputePower import ComputePower; ComputePower(load=True, name='ComputePower').run()\" \n",
      "Updating lock file 'dvc.lock'                                                   \n",
      "\n",
      "To track the changes with git, run:\n",
      "\n",
      "\tgit add dvc.lock\n",
      "Use `dvc push` to send your updates to remote storage.\n",
      "\u001b[0m"
     ]
    }
   ],
   "source": [
    "!dvc repro"
   ]
  },
  {
   "cell_type": "code",
   "execution_count": 8,
   "id": "7d235eca-8834-4e31-ad4e-51f83a80a625",
   "metadata": {},
   "outputs": [
    {
     "name": "stdout",
     "output_type": "stream",
     "text": [
      "2021-11-30 16:18:06,577 (WARNING): Jupyter support is an experimental feature! Please save your notebook before running this command!\n",
      "Submit issues to https://github.com/zincware/ZnTrack.\n"
     ]
    },
    {
     "name": "stderr",
     "output_type": "stream",
     "text": [
      "[NbConvertApp] Converting notebook 03_dependencies.ipynb to script\n"
     ]
    },
    {
     "name": "stdout",
     "output_type": "stream",
     "text": [
      "2021-11-30 16:18:09,824 (WARNING): Jupyter support is an experimental feature! Please save your notebook before running this command!\n",
      "Submit issues to https://github.com/zincware/ZnTrack.\n"
     ]
    },
    {
     "name": "stderr",
     "output_type": "stream",
     "text": [
      "[NbConvertApp] Writing 3414 bytes to 03_dependencies.py\n",
      "[NbConvertApp] Converting notebook 03_dependencies.ipynb to script\n"
     ]
    },
    {
     "name": "stdout",
     "output_type": "stream",
     "text": [
      "2021-11-30 16:18:13,009 (WARNING): Jupyter support is an experimental feature! Please save your notebook before running this command!\n",
      "Submit issues to https://github.com/zincware/ZnTrack.\n"
     ]
    },
    {
     "name": "stderr",
     "output_type": "stream",
     "text": [
      "[NbConvertApp] Writing 3414 bytes to 03_dependencies.py\n",
      "[NbConvertApp] Converting notebook 03_dependencies.ipynb to script\n"
     ]
    },
    {
     "name": "stdout",
     "output_type": "stream",
     "text": [
      "2021-11-30 16:18:16,151 (WARNING): Jupyter support is an experimental feature! Please save your notebook before running this command!\n",
      "Submit issues to https://github.com/zincware/ZnTrack.\n"
     ]
    },
    {
     "name": "stderr",
     "output_type": "stream",
     "text": [
      "[NbConvertApp] Writing 3414 bytes to 03_dependencies.py\n",
      "[NbConvertApp] Converting notebook 03_dependencies.ipynb to script\n"
     ]
    },
    {
     "name": "stdout",
     "output_type": "stream",
     "text": [
      "2021-11-30 16:18:19,625 (WARNING): Jupyter support is an experimental feature! Please save your notebook before running this command!\n",
      "Submit issues to https://github.com/zincware/ZnTrack.\n"
     ]
    },
    {
     "name": "stderr",
     "output_type": "stream",
     "text": [
      "[NbConvertApp] Writing 3414 bytes to 03_dependencies.py\n",
      "[NbConvertApp] Converting notebook 03_dependencies.ipynb to script\n"
     ]
    },
    {
     "name": "stdout",
     "output_type": "stream",
     "text": [
      "0.0 ^ 2.0 = 0.0\n"
     ]
    },
    {
     "name": "stderr",
     "output_type": "stream",
     "text": [
      "[NbConvertApp] Writing 3414 bytes to 03_dependencies.py\n"
     ]
    }
   ],
   "source": [
    "print(f'{RandomNumber(load=True).number} ^ {ComputePower(load=True).power} = {ComputePower(load=True).number}')"
   ]
  },
  {
   "cell_type": "markdown",
   "id": "c07bbdc0-cbaf-4b5e-afce-47c07dfbd0f1",
   "metadata": {},
   "source": [
    "## File dependencies\n",
    "The second approach is depending on files.\n",
    "We do this by creating a file from our random number first.\n",
    "We then use the path to that file as our dependency.\n",
    "In the end we compare both methods and also show the graph that was built for us by DVC.\n",
    "\n",
    "We can do set the file dependency very easily in the same way by passing `pathlib.Path` or `str` to the `dvc.deps`.\n",
    "As every  `dvc.<...>` it also supports lists.\n",
    "```py\n",
    "dependency: Path = dvc.deps([Path('some_file.txt'), 'some_other_file.txt'])\n",
    "```"
   ]
  },
  {
   "cell_type": "code",
   "execution_count": 9,
   "id": "8c062896-ca2c-4a8f-a15c-294ee3866855",
   "metadata": {},
   "outputs": [
    {
     "name": "stdout",
     "output_type": "stream",
     "text": [
      "2021-11-30 16:18:22,818 (WARNING): Jupyter support is an experimental feature! Please save your notebook before running this command!\n",
      "Submit issues to https://github.com/zincware/ZnTrack.\n"
     ]
    },
    {
     "name": "stderr",
     "output_type": "stream",
     "text": [
      "[NbConvertApp] Converting notebook 03_dependencies.ipynb to script\n"
     ]
    },
    {
     "name": "stdout",
     "output_type": "stream",
     "text": [
      "2021-11-30 16:18:25,973 (WARNING): Jupyter support is an experimental feature! Please save your notebook before running this command!\n",
      "Submit issues to https://github.com/zincware/ZnTrack.\n"
     ]
    },
    {
     "name": "stderr",
     "output_type": "stream",
     "text": [
      "[NbConvertApp] Writing 3414 bytes to 03_dependencies.py\n",
      "[NbConvertApp] Converting notebook 03_dependencies.ipynb to script\n"
     ]
    },
    {
     "name": "stdout",
     "output_type": "stream",
     "text": [
      "2021-11-30 16:18:29,118 (WARNING): Jupyter support is an experimental feature! Please save your notebook before running this command!\n",
      "Submit issues to https://github.com/zincware/ZnTrack.\n"
     ]
    },
    {
     "name": "stderr",
     "output_type": "stream",
     "text": [
      "[NbConvertApp] Writing 3414 bytes to 03_dependencies.py\n",
      "[NbConvertApp] Converting notebook 03_dependencies.ipynb to script\n",
      "[NbConvertApp] Writing 3414 bytes to 03_dependencies.py\n"
     ]
    }
   ],
   "source": [
    "@Node()\n",
    "class WriteToFile:\n",
    "    random_number: RandomNumber = dvc.deps(RandomNumber(load=True))\n",
    "    file: Path = dvc.outs(Path('random_number.txt'))\n",
    "    \n",
    "    def run(self):\n",
    "        self.file.write_text(str(self.random_number.number))\n",
    "        \n",
    "@Node()\n",
    "class PowerFromFile:\n",
    "    file: Path = dvc.deps(WriteToFile(load=True).file)\n",
    "    number = zn.outs()\n",
    "    power = dvc.params(2)\n",
    "    \n",
    "    def run(self):\n",
    "        number = float(self.file.read_text())\n",
    "        self.number = number ** self.power\n",
    "        \n",
    "@Node()\n",
    "class ComparePowers:\n",
    "    power_deps = dvc.deps([PowerFromFile(load=True), ComputePower(load=True)])\n",
    "    \n",
    "    def run(self):\n",
    "        assert self.power_deps[0].number == self.power_deps[1].number"
   ]
  },
  {
   "cell_type": "code",
   "execution_count": 10,
   "id": "1eefb12a-65de-4c9b-a05a-b9827915b619",
   "metadata": {},
   "outputs": [
    {
     "name": "stdout",
     "output_type": "stream",
     "text": [
      "2021-11-30 16:18:32,334 (WARNING): --- Writing new DVC file! ---\n",
      "2021-11-30 16:18:34,959 (INFO): Adding stage 'WriteToFile' in 'dvc.yaml'\n",
      "\n",
      "To track the changes with git, run:\n",
      "\n",
      "\tgit add .gitignore dvc.yaml\n",
      "\n",
      "2021-11-30 16:18:34,964 (WARNING): --- Writing new DVC file! ---\n",
      "2021-11-30 16:18:37,493 (INFO): Adding stage 'PowerFromFile' in 'dvc.yaml'\n",
      "\n",
      "To track the changes with git, run:\n",
      "\n",
      "\tgit add nodes/PowerFromFile/.gitignore dvc.yaml\n",
      "\n",
      "2021-11-30 16:18:37,496 (WARNING): --- Writing new DVC file! ---\n",
      "2021-11-30 16:18:40,009 (INFO): Adding stage 'ComparePowers' in 'dvc.yaml'\n",
      "\n",
      "To track the changes with git, run:\n",
      "\n",
      "\tgit add dvc.yaml\n",
      "\n"
     ]
    }
   ],
   "source": [
    "WriteToFile()()\n",
    "PowerFromFile()()\n",
    "ComparePowers()()"
   ]
  },
  {
   "cell_type": "code",
   "execution_count": 11,
   "id": "883099de-6823-4000-9080-6f57b61a9bf9",
   "metadata": {},
   "outputs": [
    {
     "name": "stdout",
     "output_type": "stream",
     "text": [
      "                +--------------+                  \n",
      "                | RandomNumber |                  \n",
      "                +--------------+                  \n",
      "                **             ***                \n",
      "             ***                  ***             \n",
      "           **                        **           \n",
      " +-------------+                       **         \n",
      " | WriteToFile |                        *         \n",
      " +-------------+                        *         \n",
      "        *                               *         \n",
      "        *                               *         \n",
      "        *                               *         \n",
      "+---------------+               +--------------+  \n",
      "| PowerFromFile |               | ComputePower |  \n",
      "+---------------+               +--------------+  \n",
      "                **             ***                \n",
      "                  ***        **                   \n",
      "                     **    **                     \n",
      "                +---------------+                 \n",
      "                | ComparePowers |                 \n",
      "                +---------------+                 \n",
      "\u001b[0m"
     ]
    }
   ],
   "source": [
    "!dvc dag"
   ]
  },
  {
   "cell_type": "code",
   "execution_count": 12,
   "id": "20944b0c-9c56-49fa-bff8-e77886d4e50f",
   "metadata": {},
   "outputs": [
    {
     "name": "stdout",
     "output_type": "stream",
     "text": [
      "Stage 'RandomNumber' didn't change, skipping                          core\u001b[39m>\n",
      "Stage 'ComputePower' didn't change, skipping\n",
      "Running stage 'WriteToFile':\n",
      "> python3 -c \"from src.WriteToFile import WriteToFile; WriteToFile(load=True, name='WriteToFile').run()\" \n",
      "Updating lock file 'dvc.lock'                                                   \n",
      "\n",
      "Running stage 'PowerFromFile':\n",
      "> python3 -c \"from src.PowerFromFile import PowerFromFile; PowerFromFile(load=True, name='PowerFromFile').run()\" \n",
      "Updating lock file 'dvc.lock'                                                   \n",
      "\n",
      "Running stage 'ComparePowers':\n",
      "> python3 -c \"from src.ComparePowers import ComparePowers; ComparePowers(load=True, name='ComparePowers').run()\" \n",
      "Updating lock file 'dvc.lock'                                         core\u001b[39m>\n",
      "\n",
      "To track the changes with git, run:\n",
      "\n",
      "\tgit add dvc.lock\n",
      "Use `dvc push` to send your updates to remote storage.\n",
      "\u001b[0m"
     ]
    }
   ],
   "source": [
    "!dvc repro"
   ]
  },
  {
   "cell_type": "markdown",
   "id": "c0b8c97a-ab33-4ac4-9473-c203d88c0442",
   "metadata": {},
   "source": [
    "If we now look at our `dvc.yaml` we can see that for our Node dependencies we rely on the `outs/<node_name>.json` while for the file dependency it is directly connect to the passed file."
   ]
  },
  {
   "cell_type": "code",
   "execution_count": 13,
   "id": "32e1e993-ff99-4eb6-97db-ffc3ce834ca5",
   "metadata": {},
   "outputs": [
    {
     "data": {
      "text/plain": [
       "stages:\n",
       "  RandomNumber:\n",
       "    cmd: \"python3 -c \\\"from src.RandomNumber import RandomNumber; RandomNumber(load=True,\\\n",
       "      \\ name='RandomNumber').run()\\\" \"\n",
       "    deps:\n",
       "    - src/RandomNumber.py\n",
       "    params:\n",
       "    - RandomNumber\n",
       "    outs:\n",
       "    - nodes/RandomNumber/outs.json\n",
       "  ComputePower:\n",
       "    cmd: \"python3 -c \\\"from src.ComputePower import ComputePower; ComputePower(load=True,\\\n",
       "      \\ name='ComputePower').run()\\\" \"\n",
       "    deps:\n",
       "    - nodes/RandomNumber/outs.json\n",
       "    - src/ComputePower.py\n",
       "    params:\n",
       "    - ComputePower\n",
       "    outs:\n",
       "    - nodes/ComputePower/outs.json\n",
       "  WriteToFile:\n",
       "    cmd: \"python3 -c \\\"from src.WriteToFile import WriteToFile; WriteToFile(load=True,\\\n",
       "      \\ name='WriteToFile').run()\\\" \"\n",
       "    deps:\n",
       "    - nodes/RandomNumber/outs.json\n",
       "    - src/WriteToFile.py\n",
       "    outs:\n",
       "    - random_number.txt\n",
       "  PowerFromFile:\n",
       "    cmd: \"python3 -c \\\"from src.PowerFromFile import PowerFromFile; PowerFromFile(load=True,\\\n",
       "      \\ name='PowerFromFile').run()\\\" \"\n",
       "    deps:\n",
       "    - random_number.txt\n",
       "    - src/PowerFromFile.py\n",
       "    params:\n",
       "    - PowerFromFile\n",
       "    outs:\n",
       "    - nodes/PowerFromFile/outs.json\n",
       "  ComparePowers:\n",
       "    cmd: \"python3 -c \\\"from src.ComparePowers import ComparePowers; ComparePowers(load=True,\\\n",
       "      \\ name='ComparePowers').run()\\\" \"\n",
       "    deps:\n",
       "    - nodes/ComputePower/outs.json\n",
       "    - nodes/PowerFromFile/outs.json\n",
       "    - src/ComparePowers.py\n"
      ]
     },
     "metadata": {},
     "output_type": "display_data"
    }
   ],
   "source": [
    "from IPython.display import Pretty, display\n",
    "\n",
    "display(Pretty(\"dvc.yaml\"))"
   ]
  },
  {
   "cell_type": "code",
   "execution_count": 14,
   "id": "b26fb0f0-5f3e-40d0-b1fd-8d5844f051e8",
   "metadata": {
    "nbsphinx": "hidden",
    "tags": []
   },
   "outputs": [],
   "source": [
    "temp_dir.cleanup()"
   ]
  }
 ],
 "metadata": {
  "kernelspec": {
   "display_name": "Python 3 (ipykernel)",
   "language": "python",
   "name": "python3"
  },
  "language_info": {
   "codemirror_mode": {
    "name": "ipython",
    "version": 3
   },
   "file_extension": ".py",
   "mimetype": "text/x-python",
   "name": "python",
   "nbconvert_exporter": "python",
   "pygments_lexer": "ipython3",
   "version": "3.9.7"
  }
 },
 "nbformat": 4,
 "nbformat_minor": 5
}
